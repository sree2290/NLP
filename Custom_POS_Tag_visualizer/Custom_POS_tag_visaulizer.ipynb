{
  "nbformat": 4,
  "nbformat_minor": 0,
  "metadata": {
    "colab": {
      "provenance": [],
      "collapsed_sections": []
    },
    "kernelspec": {
      "name": "python3",
      "display_name": "Python 3"
    },
    "language_info": {
      "name": "python"
    }
  },
  "cells": [
    {
      "cell_type": "markdown",
      "source": [
        "POS tagging is a technique used in Natural Language Processing. It categorizes the tokens in a text as nouns, verbs, adjectives, and so on and we can visualize and see the POS Tags"
      ],
      "metadata": {
        "id": "SwbiXNgk305U"
      }
    },
    {
      "cell_type": "markdown",
      "source": [
        "![text1.png](data:image/png;base64,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)"
      ],
      "metadata": {
        "id": "DcKvI38H4l3l"
      }
    },
    {
      "cell_type": "markdown",
      "source": [
        "To:"
      ],
      "metadata": {
        "id": "BjuCJiVo4oF-"
      }
    },
    {
      "cell_type": "markdown",
      "source": [
        "![text2.png](data:image/png;base64,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)"
      ],
      "metadata": {
        "id": "5wcre2iJ4qvm"
      }
    },
    {
      "cell_type": "markdown",
      "source": [
        "In spacy we have displacy to visaluize NER but there is no visualizer for POS so we create our custome POS tag visualizer"
      ],
      "metadata": {
        "id": "16V2xGCJ4zpv"
      }
    },
    {
      "cell_type": "code",
      "execution_count": 9,
      "metadata": {
        "id": "ORiF7afP3auB"
      },
      "outputs": [],
      "source": [
        "def pos_visualizer(text):\n",
        "    import nltk\n",
        "    from nltk import word_tokenize\n",
        "    from spacy import displacy\n",
        "    from nltk.tokenize import TreebankWordTokenizer as twt\n",
        "    pos_tags = [\"PRON\", \"VERB\", \"NOUN\", \"ADJ\", \"ADP\", \"ADV\", \"CONJ\", \"DET\", \"NUM\", \"PRT\"]\n",
        "    colors = {\"PRON\": \"blueviolet\",\"VERB\": \"lightpink\",\"NOUN\": \"turquoise\",\"ADJ\" : \"lime\",\"ADP\" : \"khaki\",\n",
        "            \"ADV\" : \"orange\",\"CONJ\" : \"cornflowerblue\", \"DET\" : \"forestgreen\",\"NUM\" : \"salmon\",\"PRT\" : \"yellow\"}\n",
        "    options = {\"ents\": pos_tags, \"colors\": colors}\n",
        "\n",
        "    tokens = twt().tokenize(text)\n",
        "    tags = nltk.pos_tag(tokens, tagset = \"universal\")\n",
        "\n",
        "    span_generator = twt().span_tokenize(text)\n",
        "    spans = [span for span in span_generator]\n",
        "\n",
        "    ents = []\n",
        "    for tag, span in zip(tags, spans):\n",
        "        if tag[1] in pos_tags:\n",
        "            ents.append({\"start\" : span[0], \n",
        "                        \"end\" : span[1], \n",
        "                        \"label\" : tag[1] })\n",
        "            \n",
        "    doc = {\"text\" : text, \"ents\" : ents}\n",
        "    x = displacy.render(doc,style = \"ent\", options = options, manual = True, jupyter = True)\n",
        "    return x"
      ]
    },
    {
      "cell_type": "code",
      "source": [
        "pos_visualizer(\"home they brought her warrior dead she nor swoond nor utterd cry all her maidens watching said she must weep or she will die\")"
      ],
      "metadata": {
        "colab": {
          "base_uri": "https://localhost:8080/",
          "height": 122
        },
        "id": "1E2SqChd5V9q",
        "outputId": "31694e25-1abd-4ff5-9b2a-5357d3258280"
      },
      "execution_count": 10,
      "outputs": [
        {
          "output_type": "display_data",
          "data": {
            "text/plain": [
              "<IPython.core.display.HTML object>"
            ],
            "text/html": [
              "<span class=\"tex2jax_ignore\"><div class=\"entities\" style=\"line-height: 2.5; direction: ltr\">\n",
              "<mark class=\"entity\" style=\"background: turquoise; padding: 0.45em 0.6em; margin: 0 0.25em; line-height: 1; border-radius: 0.35em;\">\n",
              "    home\n",
              "    <span style=\"font-size: 0.8em; font-weight: bold; line-height: 1; border-radius: 0.35em; vertical-align: middle; margin-left: 0.5rem\">NOUN</span>\n",
              "</mark>\n",
              " \n",
              "<mark class=\"entity\" style=\"background: blueviolet; padding: 0.45em 0.6em; margin: 0 0.25em; line-height: 1; border-radius: 0.35em;\">\n",
              "    they\n",
              "    <span style=\"font-size: 0.8em; font-weight: bold; line-height: 1; border-radius: 0.35em; vertical-align: middle; margin-left: 0.5rem\">PRON</span>\n",
              "</mark>\n",
              " \n",
              "<mark class=\"entity\" style=\"background: lightpink; padding: 0.45em 0.6em; margin: 0 0.25em; line-height: 1; border-radius: 0.35em;\">\n",
              "    brought\n",
              "    <span style=\"font-size: 0.8em; font-weight: bold; line-height: 1; border-radius: 0.35em; vertical-align: middle; margin-left: 0.5rem\">VERB</span>\n",
              "</mark>\n",
              " \n",
              "<mark class=\"entity\" style=\"background: blueviolet; padding: 0.45em 0.6em; margin: 0 0.25em; line-height: 1; border-radius: 0.35em;\">\n",
              "    her\n",
              "    <span style=\"font-size: 0.8em; font-weight: bold; line-height: 1; border-radius: 0.35em; vertical-align: middle; margin-left: 0.5rem\">PRON</span>\n",
              "</mark>\n",
              " \n",
              "<mark class=\"entity\" style=\"background: turquoise; padding: 0.45em 0.6em; margin: 0 0.25em; line-height: 1; border-radius: 0.35em;\">\n",
              "    warrior\n",
              "    <span style=\"font-size: 0.8em; font-weight: bold; line-height: 1; border-radius: 0.35em; vertical-align: middle; margin-left: 0.5rem\">NOUN</span>\n",
              "</mark>\n",
              " \n",
              "<mark class=\"entity\" style=\"background: lime; padding: 0.45em 0.6em; margin: 0 0.25em; line-height: 1; border-radius: 0.35em;\">\n",
              "    dead\n",
              "    <span style=\"font-size: 0.8em; font-weight: bold; line-height: 1; border-radius: 0.35em; vertical-align: middle; margin-left: 0.5rem\">ADJ</span>\n",
              "</mark>\n",
              " \n",
              "<mark class=\"entity\" style=\"background: blueviolet; padding: 0.45em 0.6em; margin: 0 0.25em; line-height: 1; border-radius: 0.35em;\">\n",
              "    she\n",
              "    <span style=\"font-size: 0.8em; font-weight: bold; line-height: 1; border-radius: 0.35em; vertical-align: middle; margin-left: 0.5rem\">PRON</span>\n",
              "</mark>\n",
              " \n",
              "<mark class=\"entity\" style=\"background: cornflowerblue; padding: 0.45em 0.6em; margin: 0 0.25em; line-height: 1; border-radius: 0.35em;\">\n",
              "    nor\n",
              "    <span style=\"font-size: 0.8em; font-weight: bold; line-height: 1; border-radius: 0.35em; vertical-align: middle; margin-left: 0.5rem\">CONJ</span>\n",
              "</mark>\n",
              " \n",
              "<mark class=\"entity\" style=\"background: lime; padding: 0.45em 0.6em; margin: 0 0.25em; line-height: 1; border-radius: 0.35em;\">\n",
              "    swoond\n",
              "    <span style=\"font-size: 0.8em; font-weight: bold; line-height: 1; border-radius: 0.35em; vertical-align: middle; margin-left: 0.5rem\">ADJ</span>\n",
              "</mark>\n",
              " \n",
              "<mark class=\"entity\" style=\"background: cornflowerblue; padding: 0.45em 0.6em; margin: 0 0.25em; line-height: 1; border-radius: 0.35em;\">\n",
              "    nor\n",
              "    <span style=\"font-size: 0.8em; font-weight: bold; line-height: 1; border-radius: 0.35em; vertical-align: middle; margin-left: 0.5rem\">CONJ</span>\n",
              "</mark>\n",
              " \n",
              "<mark class=\"entity\" style=\"background: lime; padding: 0.45em 0.6em; margin: 0 0.25em; line-height: 1; border-radius: 0.35em;\">\n",
              "    utterd\n",
              "    <span style=\"font-size: 0.8em; font-weight: bold; line-height: 1; border-radius: 0.35em; vertical-align: middle; margin-left: 0.5rem\">ADJ</span>\n",
              "</mark>\n",
              " \n",
              "<mark class=\"entity\" style=\"background: turquoise; padding: 0.45em 0.6em; margin: 0 0.25em; line-height: 1; border-radius: 0.35em;\">\n",
              "    cry\n",
              "    <span style=\"font-size: 0.8em; font-weight: bold; line-height: 1; border-radius: 0.35em; vertical-align: middle; margin-left: 0.5rem\">NOUN</span>\n",
              "</mark>\n",
              " \n",
              "<mark class=\"entity\" style=\"background: forestgreen; padding: 0.45em 0.6em; margin: 0 0.25em; line-height: 1; border-radius: 0.35em;\">\n",
              "    all\n",
              "    <span style=\"font-size: 0.8em; font-weight: bold; line-height: 1; border-radius: 0.35em; vertical-align: middle; margin-left: 0.5rem\">DET</span>\n",
              "</mark>\n",
              " \n",
              "<mark class=\"entity\" style=\"background: blueviolet; padding: 0.45em 0.6em; margin: 0 0.25em; line-height: 1; border-radius: 0.35em;\">\n",
              "    her\n",
              "    <span style=\"font-size: 0.8em; font-weight: bold; line-height: 1; border-radius: 0.35em; vertical-align: middle; margin-left: 0.5rem\">PRON</span>\n",
              "</mark>\n",
              " \n",
              "<mark class=\"entity\" style=\"background: turquoise; padding: 0.45em 0.6em; margin: 0 0.25em; line-height: 1; border-radius: 0.35em;\">\n",
              "    maidens\n",
              "    <span style=\"font-size: 0.8em; font-weight: bold; line-height: 1; border-radius: 0.35em; vertical-align: middle; margin-left: 0.5rem\">NOUN</span>\n",
              "</mark>\n",
              " \n",
              "<mark class=\"entity\" style=\"background: lightpink; padding: 0.45em 0.6em; margin: 0 0.25em; line-height: 1; border-radius: 0.35em;\">\n",
              "    watching\n",
              "    <span style=\"font-size: 0.8em; font-weight: bold; line-height: 1; border-radius: 0.35em; vertical-align: middle; margin-left: 0.5rem\">VERB</span>\n",
              "</mark>\n",
              " \n",
              "<mark class=\"entity\" style=\"background: lightpink; padding: 0.45em 0.6em; margin: 0 0.25em; line-height: 1; border-radius: 0.35em;\">\n",
              "    said\n",
              "    <span style=\"font-size: 0.8em; font-weight: bold; line-height: 1; border-radius: 0.35em; vertical-align: middle; margin-left: 0.5rem\">VERB</span>\n",
              "</mark>\n",
              " \n",
              "<mark class=\"entity\" style=\"background: blueviolet; padding: 0.45em 0.6em; margin: 0 0.25em; line-height: 1; border-radius: 0.35em;\">\n",
              "    she\n",
              "    <span style=\"font-size: 0.8em; font-weight: bold; line-height: 1; border-radius: 0.35em; vertical-align: middle; margin-left: 0.5rem\">PRON</span>\n",
              "</mark>\n",
              " \n",
              "<mark class=\"entity\" style=\"background: lightpink; padding: 0.45em 0.6em; margin: 0 0.25em; line-height: 1; border-radius: 0.35em;\">\n",
              "    must\n",
              "    <span style=\"font-size: 0.8em; font-weight: bold; line-height: 1; border-radius: 0.35em; vertical-align: middle; margin-left: 0.5rem\">VERB</span>\n",
              "</mark>\n",
              " \n",
              "<mark class=\"entity\" style=\"background: lightpink; padding: 0.45em 0.6em; margin: 0 0.25em; line-height: 1; border-radius: 0.35em;\">\n",
              "    weep\n",
              "    <span style=\"font-size: 0.8em; font-weight: bold; line-height: 1; border-radius: 0.35em; vertical-align: middle; margin-left: 0.5rem\">VERB</span>\n",
              "</mark>\n",
              " \n",
              "<mark class=\"entity\" style=\"background: cornflowerblue; padding: 0.45em 0.6em; margin: 0 0.25em; line-height: 1; border-radius: 0.35em;\">\n",
              "    or\n",
              "    <span style=\"font-size: 0.8em; font-weight: bold; line-height: 1; border-radius: 0.35em; vertical-align: middle; margin-left: 0.5rem\">CONJ</span>\n",
              "</mark>\n",
              " \n",
              "<mark class=\"entity\" style=\"background: blueviolet; padding: 0.45em 0.6em; margin: 0 0.25em; line-height: 1; border-radius: 0.35em;\">\n",
              "    she\n",
              "    <span style=\"font-size: 0.8em; font-weight: bold; line-height: 1; border-radius: 0.35em; vertical-align: middle; margin-left: 0.5rem\">PRON</span>\n",
              "</mark>\n",
              " \n",
              "<mark class=\"entity\" style=\"background: lightpink; padding: 0.45em 0.6em; margin: 0 0.25em; line-height: 1; border-radius: 0.35em;\">\n",
              "    will\n",
              "    <span style=\"font-size: 0.8em; font-weight: bold; line-height: 1; border-radius: 0.35em; vertical-align: middle; margin-left: 0.5rem\">VERB</span>\n",
              "</mark>\n",
              " \n",
              "<mark class=\"entity\" style=\"background: lightpink; padding: 0.45em 0.6em; margin: 0 0.25em; line-height: 1; border-radius: 0.35em;\">\n",
              "    die\n",
              "    <span style=\"font-size: 0.8em; font-weight: bold; line-height: 1; border-radius: 0.35em; vertical-align: middle; margin-left: 0.5rem\">VERB</span>\n",
              "</mark>\n",
              "</div></span>"
            ]
          },
          "metadata": {}
        }
      ]
    },
    {
      "cell_type": "code",
      "source": [],
      "metadata": {
        "id": "-DuY4dQr5slC"
      },
      "execution_count": null,
      "outputs": []
    }
  ]
}